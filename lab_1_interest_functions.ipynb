{
  "nbformat": 4,
  "nbformat_minor": 0,
  "metadata": {
    "kernelspec": {
      "display_name": "Python 3",
      "language": "python",
      "name": "python3"
    },
    "language_info": {
      "codemirror_mode": {
        "name": "ipython",
        "version": 3
      },
      "file_extension": ".py",
      "mimetype": "text/x-python",
      "name": "python",
      "nbconvert_exporter": "python",
      "pygments_lexer": "ipython3",
      "version": "3.7.2"
    },
    "colab": {
      "name": "lab_1_interest_functions.ipynb",
      "provenance": [],
      "include_colab_link": true
    }
  },
  "cells": [
    {
      "cell_type": "markdown",
      "metadata": {
        "id": "view-in-github",
        "colab_type": "text"
      },
      "source": [
        "<a href=\"https://colab.research.google.com/github/Samuel-Andrews/lab1_interest_functions/blob/master/lab_1_interest_functions.ipynb\" target=\"_parent\"><img src=\"https://colab.research.google.com/assets/colab-badge.svg\" alt=\"Open In Colab\"/></a>"
      ]
    },
    {
      "cell_type": "markdown",
      "metadata": {
        "id": "iQlGnxIYuJKw",
        "colab_type": "text"
      },
      "source": [
        "## Lab 1 - Compound Interest Functions\n",
        "\n",
        "Below you will find a table of important formulae related to compound interest.  \n",
        "\n",
        "<img src=\"https://www.dummies.com/wp-content/uploads/251689.image0.jpg\" alt=\"image0.jpg\" width=\"400\" height=\"319\">\n",
        "\n",
        "In this lab, you will create functions for each of these using (and documenting) the following workflow.\n",
        "\n",
        "1. Work out the correct answer for a few examples. *Hint* Search for e.g. \"worked out compound interest examples\" on the web.\n",
        "2. Write a `lambda` function and test this function on your test cases.\n",
        "3. Convert the `lambda` function to a `def` statement with an informative doc string that follows the [Google formating rules](https://google.github.io/styleguide/pyguide.html#383-functions-and-methods).\n",
        "4. Write an automated test function (using your previous examples) that will test your `def` statement function each time the code is executed."
      ]
    },
    {
      "cell_type": "markdown",
      "metadata": {
        "id": "APKNHsbQuJKx",
        "colab_type": "text"
      },
      "source": [
        "#### Problem 1 -- Apply the process to create a simple interest functions."
      ]
    },
    {
      "cell_type": "markdown",
      "metadata": {
        "id": "12MOq7tkuRUq",
        "colab_type": "text"
      },
      "source": [
        "Example: You borrow $10,000 for 5 years at an interest rate of 15%"
      ]
    },
    {
      "cell_type": "code",
      "metadata": {
        "id": "bLAy6CbXuJKz",
        "colab_type": "code",
        "colab": {
          "base_uri": "https://localhost:8080/",
          "height": 34
        },
        "outputId": "0e3e4541-8950-4a65-e706-26c55b144013"
      },
      "source": [
        "round(10000*5*0.15,2)"
      ],
      "execution_count": 58,
      "outputs": [
        {
          "output_type": "execute_result",
          "data": {
            "text/plain": [
              "7500.0"
            ]
          },
          "metadata": {
            "tags": []
          },
          "execution_count": 58
        }
      ]
    },
    {
      "cell_type": "markdown",
      "metadata": {
        "id": "M1jm2Cn5uuak",
        "colab_type": "text"
      },
      "source": [
        "Make it a lambda funciton"
      ]
    },
    {
      "cell_type": "code",
      "metadata": {
        "id": "vcVI_6r1uymO",
        "colab_type": "code",
        "colab": {
          "base_uri": "https://localhost:8080/",
          "height": 34
        },
        "outputId": "7cb6c1f9-c24d-4d4c-f5e4-ef80eb2672cf"
      },
      "source": [
        "simpleint = lambda principle, time, rate : round((principle*time*rate),2)\n",
        "\n",
        "simpleint(10000,5,0.15)\n"
      ],
      "execution_count": 59,
      "outputs": [
        {
          "output_type": "execute_result",
          "data": {
            "text/plain": [
              "7500.0"
            ]
          },
          "metadata": {
            "tags": []
          },
          "execution_count": 59
        }
      ]
    },
    {
      "cell_type": "markdown",
      "metadata": {
        "id": "nJwj_yyZvjgR",
        "colab_type": "text"
      },
      "source": [
        "Make it a def Statement and test it"
      ]
    },
    {
      "cell_type": "code",
      "metadata": {
        "id": "FcZZMNdQvnqv",
        "colab_type": "code",
        "colab": {
          "base_uri": "https://localhost:8080/",
          "height": 34
        },
        "outputId": "5b11406e-969c-4b14-8a8c-92e857c7c667"
      },
      "source": [
        "def simpleint(principle, time, rate):\n",
        "  \"\"\"Calculates the simple interest earned given the princple amount, the time\n",
        "     in years, and the interest rate\n",
        "\n",
        "  Arg:\n",
        "    principle: the starting balance of the account\n",
        "    time: the number of years to pass\n",
        "    rate: the interest rate per year (1% = 0.01)\n",
        "\n",
        "  Returns:\n",
        "    The amount of simple interest generated given no other additional funds being \n",
        "    added or other interest bonuses. The answer is rounded to the nearest cent.\n",
        "  \"\"\"\n",
        "  Answer = principle*time*rate\n",
        "  Answer = round(Answer, 2)\n",
        "  return Answer \n",
        "\n",
        "def test_simpleint():\n",
        "  assert simpleint(10000,5,0.15) == 7500\n",
        "  assert simpleint(1000,0,0.10) == 0\n",
        "  assert simpleint(0,3,0.15) == 0\n",
        "  assert simpleint(6000,12,0) == 0\n",
        "  assert simpleint(4000,3,0.045) == 540\n",
        "  assert simpleint(3000,2,0.12) == 720 \n",
        "\n",
        "simpleint(10000,5,0.15) "
      ],
      "execution_count": 87,
      "outputs": [
        {
          "output_type": "execute_result",
          "data": {
            "text/plain": [
              "7500.0"
            ]
          },
          "metadata": {
            "tags": []
          },
          "execution_count": 87
        }
      ]
    },
    {
      "cell_type": "markdown",
      "metadata": {
        "id": "Gf54H6eWuJK5",
        "colab_type": "text"
      },
      "source": [
        "#### Problem 2 -- Apply the process to create a compound interest functions."
      ]
    },
    {
      "cell_type": "markdown",
      "metadata": {
        "id": "hYEaESo1xYEK",
        "colab_type": "text"
      },
      "source": [
        "Example: You have 5,000 dollars compounded monthly at 5% for 10 years"
      ]
    },
    {
      "cell_type": "code",
      "metadata": {
        "id": "tZ9MH4IUuJK5",
        "colab_type": "code",
        "colab": {
          "base_uri": "https://localhost:8080/",
          "height": 34
        },
        "outputId": "386ebcbb-35f3-411e-e28b-a4725fa9bf6d"
      },
      "source": [
        "round(5000*(1+(0.05/12))**(10*12),2)"
      ],
      "execution_count": 73,
      "outputs": [
        {
          "output_type": "execute_result",
          "data": {
            "text/plain": [
              "8235.05"
            ]
          },
          "metadata": {
            "tags": []
          },
          "execution_count": 73
        }
      ]
    },
    {
      "cell_type": "markdown",
      "metadata": {
        "id": "0J0MqWL9x2-r",
        "colab_type": "text"
      },
      "source": [
        "Make it a lambda function\n"
      ]
    },
    {
      "cell_type": "code",
      "metadata": {
        "id": "n7dizWJDx7Du",
        "colab_type": "code",
        "colab": {
          "base_uri": "https://localhost:8080/",
          "height": 33
        },
        "outputId": "64279a25-6106-458f-f27d-f32a917b41ba"
      },
      "source": [
        "compoundint = lambda principal, rate, compoundsperN, N  : round(principal*(1+(rate/compoundsperN))**(N*compoundsperN),2)\n",
        "\n",
        "compoundint(5000,0.05,12,10)\n",
        "\n"
      ],
      "execution_count": 75,
      "outputs": [
        {
          "output_type": "execute_result",
          "data": {
            "text/plain": [
              "8235.05"
            ]
          },
          "metadata": {
            "tags": []
          },
          "execution_count": 75
        }
      ]
    },
    {
      "cell_type": "markdown",
      "metadata": {
        "id": "sveyEDIdytzN",
        "colab_type": "text"
      },
      "source": [
        "Make it a def function and test it"
      ]
    },
    {
      "cell_type": "code",
      "metadata": {
        "id": "gGeE2fqyyv2Y",
        "colab_type": "code",
        "colab": {
          "base_uri": "https://localhost:8080/",
          "height": 33
        },
        "outputId": "3e6b1dab-7ae3-4154-af9e-6702e3ed6830"
      },
      "source": [
        "def compoundint(principal, rate, compoundsperN, N):\n",
        "  \"\"\"Calculates the compound interest earned given the princple amount, the\n",
        "     interest rate, the number of compounds per period, and the number of \n",
        "     periods\n",
        "\n",
        "  Arg:\n",
        "    principle: the starting balance of the account\n",
        "    rate: the interest rate per regular interval (1% = 0.01)\n",
        "    compoundsperN: number of compounds per period (N)\n",
        "    N: Number of total periods\n",
        "\n",
        "  Returns:\n",
        "    The amount of interest generated given no other additional funds being added\n",
        "    or other interest bonuses. The answer is rounded to the nearest cent.\n",
        "  \"\"\"\n",
        "  Answer = principal*(1+(rate/compoundsperN))**(N*compoundsperN)\n",
        "  Answer = round(Answer,2)\n",
        "  return Answer\n",
        "\n",
        "def test_compoundint():\n",
        "  assert compoundint(5000,0.05,12,10) == 8235.05\n",
        "  assert compoundint(0,0.05,12,10) == 0\n",
        "  assert compoundint(5000,0,12,10) == 0\n",
        "  assert compoundint(5000,0.05,12,0) == 0\n",
        "  assert compoundint(5000,0.05,0,10) == 0\n",
        "  assert compoundint(1000,0.06,12,1) == 1061.68\n",
        "  assert compoundint(4000,0.06,4,5) == 5387.42\n",
        "  assert compoundint(8000,0.07,4,6.3) == 12386.75\n",
        "\n",
        "compoundint(5000,0.05,12,10)"
      ],
      "execution_count": 82,
      "outputs": [
        {
          "output_type": "execute_result",
          "data": {
            "text/plain": [
              "8235.05"
            ]
          },
          "metadata": {
            "tags": []
          },
          "execution_count": 82
        }
      ]
    },
    {
      "cell_type": "markdown",
      "metadata": {
        "id": "gwu5NxqTuJK8",
        "colab_type": "text"
      },
      "source": [
        "#### Problem 3 -- Apply the process to create a amortized loan payment function."
      ]
    },
    {
      "cell_type": "markdown",
      "metadata": {
        "id": "cievX09y2J32",
        "colab_type": "text"
      },
      "source": [
        "Example: You have a principle of $165,000, a term length of 30 years (360 months) and pay interest at 4.5% per year"
      ]
    },
    {
      "cell_type": "code",
      "metadata": {
        "id": "sYmtCuewuJK_",
        "colab_type": "code",
        "colab": {}
      },
      "source": [
        "round((165000*0.045)/(1-(1+0.045)**-30),2)"
      ],
      "execution_count": null,
      "outputs": []
    },
    {
      "cell_type": "markdown",
      "metadata": {
        "id": "dbH4HFVq4_2s",
        "colab_type": "text"
      },
      "source": [
        "Make it a Lambda Function"
      ]
    },
    {
      "cell_type": "code",
      "metadata": {
        "id": "TtXID6cZ5CoD",
        "colab_type": "code",
        "colab": {}
      },
      "source": [
        "Amortization = lambda principle, rate, N: round((principle*rate) / (1-(1+rate)**(-N)), 2)\n",
        "\n",
        "Amortization(165000,0.045,30)\n"
      ],
      "execution_count": null,
      "outputs": []
    },
    {
      "cell_type": "markdown",
      "metadata": {
        "id": "5rkfqTnH5ves",
        "colab_type": "text"
      },
      "source": [
        "Make it a def function and test it"
      ]
    },
    {
      "cell_type": "code",
      "metadata": {
        "id": "oINvuaC_5zB9",
        "colab_type": "code",
        "colab": {
          "base_uri": "https://localhost:8080/",
          "height": 33
        },
        "outputId": "b3feb4aa-6219-4426-9382-d56427a19dec"
      },
      "source": [
        "def Amortization(principle, rate, N):\n",
        "  \"\"\"Calculates the regular payment needed to payout a loan over a period N\n",
        "      given the principle amount and the interest rate.\n",
        "\n",
        "  Arg:\n",
        "    principle: the starting balance of the loan or asset\n",
        "    rate: the interest rate per regular interval (1% = 0.01)\n",
        "    numpay: the number of total periods to pay\n",
        "\n",
        "  Returns:\n",
        "    The fixed schedule payment, which is how much per interval one would\n",
        "    need to pay per period to pay off the principle in N periods. The answer is\n",
        "    rounded to the nearest cent.\n",
        "  \"\"\"\n",
        "  Answer = (principle*rate) / (1-(1+rate)**(-N))\n",
        "  Answer = round(Answer,2)\n",
        "  return Answer\n",
        "\n",
        "def test_Amortization():\n",
        "  assert Amortization(165000,0.045,30) == 10129.6\n",
        "  assert Amortization(0,0.045,30) == 0\n",
        "  assert Amortization(165000,0.045,0) == 0\n",
        "  assert Amortization(165000,0,30) == 0\n",
        "  assert Amortization(200,0.1,6) == 45.92\n",
        "  assert Amortization(612,0.02,34.2) == 24.88\n",
        "\n",
        "Amortization(165000,0.045,30) "
      ],
      "execution_count": 85,
      "outputs": [
        {
          "output_type": "execute_result",
          "data": {
            "text/plain": [
              "10129.6"
            ]
          },
          "metadata": {
            "tags": []
          },
          "execution_count": 85
        }
      ]
    },
    {
      "cell_type": "markdown",
      "metadata": {
        "id": "7JC3AygCuJLD",
        "colab_type": "text"
      },
      "source": [
        "#### Problem 4 -- Apply the process to create a remaining balance function"
      ]
    },
    {
      "cell_type": "markdown",
      "metadata": {
        "id": "UeDmCfTi8F4g",
        "colab_type": "text"
      },
      "source": [
        "Example: After borrowing one-thousand dollars over a 1 year period at 12% annual interest and making 5 payments (regular payments of $88.85, rate = 12/12 = 1%).\n",
        "\n",
        "\n"
      ]
    },
    {
      "cell_type": "code",
      "metadata": {
        "id": "l-pUmHC4uJLE",
        "colab_type": "code",
        "colab": {
          "base_uri": "https://localhost:8080/",
          "height": 33
        },
        "outputId": "cf81c544-7183-454b-fe8f-aeca2ea0b1b9"
      },
      "source": [
        "round(88.85*((1-((1+0.01)**-(12-5)))/0.01),2)"
      ],
      "execution_count": 62,
      "outputs": [
        {
          "output_type": "execute_result",
          "data": {
            "text/plain": [
              "597.8"
            ]
          },
          "metadata": {
            "tags": []
          },
          "execution_count": 62
        }
      ]
    },
    {
      "cell_type": "markdown",
      "metadata": {
        "id": "K12IMkPuNEN4",
        "colab_type": "text"
      },
      "source": [
        "Make it a lambda function"
      ]
    },
    {
      "cell_type": "code",
      "metadata": {
        "id": "h8KQ2r-TNGwd",
        "colab_type": "code",
        "colab": {
          "base_uri": "https://localhost:8080/",
          "height": 33
        },
        "outputId": "a1348083-b003-4511-daa2-b2c253d7d65a"
      },
      "source": [
        "remainingbalance = lambda regpayment, rate, numpay, prepay :  round(regpayment*((1-((1+rate)**-(numpay-prepay)))/rate),2)\n",
        "\n",
        "remainingbalance(88.85,0.01,12,5)"
      ],
      "execution_count": 63,
      "outputs": [
        {
          "output_type": "execute_result",
          "data": {
            "text/plain": [
              "597.8"
            ]
          },
          "metadata": {
            "tags": []
          },
          "execution_count": 63
        }
      ]
    },
    {
      "cell_type": "markdown",
      "metadata": {
        "id": "MJz1mBJvSACI",
        "colab_type": "text"
      },
      "source": [
        "Make it a def function and create a test function"
      ]
    },
    {
      "cell_type": "code",
      "metadata": {
        "id": "X17AtlL1SByD",
        "colab_type": "code",
        "colab": {
          "base_uri": "https://localhost:8080/",
          "height": 33
        },
        "outputId": "8eb6cb9b-ad7d-4f28-ef3f-773f1bffba1a"
      },
      "source": [
        "def remainingbalance(regpayment, rate, numpay, prepay):\n",
        "  \"\"\"Calculates the remaning balance of a loan given the payment at a regular\n",
        "      interval, the interest rate at regular interval, the number of total\n",
        "      payments, and the number of payments already made\n",
        "\n",
        "  Arg:\n",
        "    regpayment: the amount of money paid per regular interval (Dollars)\n",
        "    rate: the interest rate per regular interval (1% = 0.01)\n",
        "    numpay: the number of total periods to pay\n",
        "    prepay: the number of periods already paid\n",
        "\n",
        "  Returns:\n",
        "    The remaning balance on a loan yet to be paid, extra payments or fees\n",
        "    notwithstanding. The answer is rounded to the nearest cent.\n",
        "  \"\"\"\n",
        "  Answer = regpayment*((1-((1+rate)**-(numpay-prepay)))/rate)\n",
        "  Answer = round (Answer,2)\n",
        "  return Answer\n",
        "\n",
        " def test_remainingbalance():\n",
        "  assert remainingbalance(88.85,0.01,12,5) == 597.8\n",
        "  assert remainingbalance(0,0.01,12,5) == 0\n",
        "  assert remainingbalance(88.85,0,12,5) == 0\n",
        "  assert remainingbalance(88,0.01,0,5) == 0\n",
        "  assert remainingbalance(88,0.01,12,0) == 0\n",
        "  assert remaingbalance(200,0.15,24,7) == 1209.43\n",
        "  assert remainingbalance(10,0.002,51,9) == 402.46\n",
        "  assert remainingbalance(1000,0.42,30,21) == 2279.52 \n",
        "\n",
        "remainingbalance(88.85,0.01,12,5) "
      ],
      "execution_count": 84,
      "outputs": [
        {
          "output_type": "execute_result",
          "data": {
            "text/plain": [
              "597.8"
            ]
          },
          "metadata": {
            "tags": []
          },
          "execution_count": 84
        }
      ]
    }
  ]
}